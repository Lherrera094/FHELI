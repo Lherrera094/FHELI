{
 "cells": [
  {
   "cell_type": "code",
   "execution_count": 1,
   "id": "8a8709f7-1462-49e9-8fbb-d4fbbff0744c",
   "metadata": {},
   "outputs": [],
   "source": [
    "import matplotlib.pyplot as plt\n",
    "import numpy as np"
   ]
  },
  {
   "cell_type": "code",
   "execution_count": 10,
   "id": "b8b9c766-de63-4a26-bf77-3a4e58bac18c",
   "metadata": {},
   "outputs": [],
   "source": [
    "scale = 2\n",
    "ant_x = scale*50\n",
    "ant_y = scale*50\n",
    "ant_radius = scale*25\n",
    "x1 = ant_x + ant_radius*np.cos(0)\n",
    "y1 = ant_y + ant_radius*np.sin(0)\n",
    "x2 = ant_x + ant_radius*np.cos(np.pi)\n",
    "y2 = ant_y + ant_radius*np.sin(np.pi)"
   ]
  },
  {
   "cell_type": "code",
   "execution_count": 11,
   "id": "488ebf6c-ab6c-4f36-93f5-024205c74be3",
   "metadata": {},
   "outputs": [
    {
     "name": "stdout",
     "output_type": "stream",
     "text": [
      "25.0 50.0\n"
     ]
    }
   ],
   "source": [
    "print(x2,y2)"
   ]
  },
  {
   "cell_type": "code",
   "execution_count": 20,
   "id": "efd68466-6ea5-4c56-9185-b453b5093f1d",
   "metadata": {},
   "outputs": [],
   "source": [
    "X_c = []\n",
    "Y_c = []\n",
    "for theta in range(0,360):\n",
    "    X_c.append( round(ant_x + ant_radius*np.cos(theta*np.pi/180)) )\n",
    "    Y_c.append( round(ant_y + ant_radius*np.sin(theta*np.pi/180)) )"
   ]
  },
  {
   "cell_type": "code",
   "execution_count": 25,
   "id": "4f7df06b-7017-443a-a41a-38408746312c",
   "metadata": {},
   "outputs": [],
   "source": [
    "plt.plot(X_c,Y_c,\"go\", markersize=1)\n",
    "plt.plot(x1,y1,\"ro\")\n",
    "plt.plot(x2,y2,\"bo\")\n",
    "plt.xlim([0,scale*100])\n",
    "plt.ylim([0,sclae*100])\n",
    "plt.show()"
   ]
  },
  {
   "cell_type": "code",
   "execution_count": null,
   "id": "cfd50641-801d-4ff5-b0af-81f39fe553db",
   "metadata": {},
   "outputs": [],
   "source": []
  }
 ],
 "metadata": {
  "kernelspec": {
   "display_name": "Python 3 (ipykernel)",
   "language": "python",
   "name": "python3"
  },
  "language_info": {
   "codemirror_mode": {
    "name": "ipython",
    "version": 3
   },
   "file_extension": ".py",
   "mimetype": "text/x-python",
   "name": "python",
   "nbconvert_exporter": "python",
   "pygments_lexer": "ipython3",
   "version": "3.8.18"
  }
 },
 "nbformat": 4,
 "nbformat_minor": 5
}
