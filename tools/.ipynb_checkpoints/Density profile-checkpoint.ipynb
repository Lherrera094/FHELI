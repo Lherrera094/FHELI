{
 "cells": [
  {
   "cell_type": "code",
   "execution_count": 1,
   "id": "941de565-c5de-4eea-9830-080e892a72f7",
   "metadata": {},
   "outputs": [],
   "source": [
    "import math as mp\n",
    "import numpy as np\n",
    "import matplotlib.pyplot as plt"
   ]
  },
  {
   "cell_type": "code",
   "execution_count": 11,
   "id": "e166cb97-e9c1-43f6-a0f2-18ac31175efb",
   "metadata": {},
   "outputs": [],
   "source": [
    "#Initial values\n",
    "n_0 = 2\n",
    "a = 10\n",
    "s = 1\n",
    "t = 1"
   ]
  },
  {
   "cell_type": "code",
   "execution_count": 12,
   "id": "2cfbe26d-ffef-4dae-9966-bc8e89e1d613",
   "metadata": {},
   "outputs": [],
   "source": [
    "r = np.linspace(0,a,10000)\n",
    "n = n_0*(1 - (r/a)**s)**t"
   ]
  },
  {
   "cell_type": "code",
   "execution_count": 13,
   "id": "7834a383-8cca-4e9e-9ed7-4739fdf1f0e1",
   "metadata": {},
   "outputs": [],
   "source": [
    "plt.plot(r,n,\"ro\")\n",
    "plt.show()"
   ]
  },
  {
   "cell_type": "code",
   "execution_count": 19,
   "id": "936a401f-f0ba-4262-b91f-f50775bc5197",
   "metadata": {},
   "outputs": [],
   "source": [
    "import numpy as np\n",
    "\n",
    "# Parameters\n",
    "n0 = 1.0  # Maximum density\n",
    "a = 5.0   # Radius of the column\n",
    "s = 2.0   # Shape parameter s\n",
    "t = 1.0   # Shape parameter t\n",
    "x0, y0, z0 = 10.0, 10.0, 10.0  # Center coordinates\n",
    "\n",
    "# Grid dimensions and spacing\n",
    "Nx, Ny, Nz = 100, 100, 100\n",
    "dx, dy, dz = 0.1, 0.1, 0.1\n",
    "\n",
    "# Create the grid\n",
    "x = np.linspace(x0 - (Nx/2)*dx, x0 + (Nx/2)*dx, Nx)\n",
    "y = np.linspace(y0 - (Ny/2)*dy, y0 + (Ny/2)*dy, Ny)\n",
    "z = np.linspace(z0 - (Nz/2)*dz, z0 + (Nz/2)*dz, Nz)\n",
    "X, Y, Z = np.meshgrid(x, y, z, indexing='ij')\n",
    "\n",
    "# Calculate radial distance from the center\n",
    "R = np.sqrt((X - x0)**2 + (Y - y0)**2 + (Z - z0)**2)\n",
    "\n",
    "# Apply the density profile\n",
    "density = np.where(R <= a, n0 * (1 - (R/a)**s)**t, 0.0)\n",
    "\n",
    "# Now `density` is a 3D array representing the density column"
   ]
  },
  {
   "cell_type": "code",
   "execution_count": 20,
   "id": "16e1bb2e-79ca-4f4a-89c0-acd5627661c0",
   "metadata": {},
   "outputs": [
    {
     "name": "stderr",
     "output_type": "stream",
     "text": [
      "invalid command name \"137550072716672delayed_destroy\"\n",
      "    while executing\n",
      "\"137550072716672delayed_destroy\"\n",
      "    (\"after\" script)\n"
     ]
    }
   ],
   "source": [
    "import matplotlib.pyplot as plt\n",
    "from mpl_toolkits.mplot3d import Axes3D\n",
    "\n",
    "# Create a 3D plot\n",
    "fig = plt.figure()\n",
    "ax = fig.add_subplot(111, projection='3d')\n",
    "\n",
    "# Plot the density column\n",
    "ax.scatter(X, Y, Z, c=density, cmap='viridis', s=1)\n",
    "\n",
    "plt.show()"
   ]
  },
  {
   "cell_type": "code",
   "execution_count": null,
   "id": "441e4654-21ce-44b1-af23-bacae5f435b4",
   "metadata": {},
   "outputs": [],
   "source": []
  }
 ],
 "metadata": {
  "kernelspec": {
   "display_name": "Python 3 (ipykernel)",
   "language": "python",
   "name": "python3"
  },
  "language_info": {
   "codemirror_mode": {
    "name": "ipython",
    "version": 3
   },
   "file_extension": ".py",
   "mimetype": "text/x-python",
   "name": "python",
   "nbconvert_exporter": "python",
   "pygments_lexer": "ipython3",
   "version": "3.8.18"
  }
 },
 "nbformat": 4,
 "nbformat_minor": 5
}
